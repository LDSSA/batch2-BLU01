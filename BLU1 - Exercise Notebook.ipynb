{
 "cells": [
  {
   "cell_type": "markdown",
   "metadata": {
    "deletable": false,
    "editable": false,
    "nbgrader": {
     "checksum": "3dcabbfa7e92383cad1425716abb84e6",
     "grade": false,
     "grade_id": "cell-fb8243291de92de8",
     "locked": true,
     "schema_version": 1,
     "solution": false
    }
   },
   "source": [
    "Yay! Exercises! "
   ]
  },
  {
   "cell_type": "code",
   "execution_count": null,
   "metadata": {},
   "outputs": [],
   "source": [
    "import pandas as pd \n",
    "from matplotlib import pyplot as plt \n",
    "import numpy as np\n",
    "% matplotlib inline \n",
    "\n",
    "from utils import utils "
   ]
  },
  {
   "cell_type": "markdown",
   "metadata": {
    "deletable": false,
    "editable": false,
    "nbgrader": {
     "checksum": "8371c3df91011cb7669ff28e36707af7",
     "grade": false,
     "grade_id": "cell-010c18256e772c51",
     "locked": true,
     "schema_version": 1,
     "solution": false
    }
   },
   "source": [
    "### You're hired! "
   ]
  },
  {
   "cell_type": "markdown",
   "metadata": {
    "deletable": false,
    "editable": false,
    "nbgrader": {
     "checksum": "62ffab64c214bdc85bf369c6884aa65c",
     "grade": false,
     "grade_id": "cell-a005ae01608eedda",
     "locked": true,
     "schema_version": 1,
     "solution": false
    }
   },
   "source": [
    "Ze and Andreia own a store, and they have just hired you as a data scientist! \n",
    "\n",
    "This is going to be fun! "
   ]
  },
  {
   "cell_type": "markdown",
   "metadata": {
    "deletable": false,
    "editable": false,
    "nbgrader": {
     "checksum": "09fe918f95bc111d7f186f60719b6503",
     "grade": false,
     "grade_id": "cell-fb3fb8510c21ed7a",
     "locked": true,
     "schema_version": 1,
     "solution": false
    }
   },
   "source": [
    "![Store](https://www.goebt.com/wp-content/uploads/2017/03/iStock-508857266-e1489426963806.jpg)"
   ]
  },
  {
   "cell_type": "markdown",
   "metadata": {
    "deletable": false,
    "editable": false,
    "nbgrader": {
     "checksum": "90bb8165e607aef70b720fd82b72d0f7",
     "grade": false,
     "grade_id": "cell-a4f89531f2ae3aab",
     "locked": true,
     "schema_version": 1,
     "solution": false
    }
   },
   "source": [
    "They have been collecting data over the past few years, and want to start using it to understand their store better. \n",
    "\n",
    "Let's get our data: "
   ]
  },
  {
   "cell_type": "code",
   "execution_count": null,
   "metadata": {},
   "outputs": [],
   "source": [
    "store = utils.get_store_data()\n",
    "store.head()"
   ]
  },
  {
   "cell_type": "markdown",
   "metadata": {
    "deletable": false,
    "editable": false,
    "nbgrader": {
     "checksum": "8d055aee12999b5094571dd38dca0b0c",
     "grade": false,
     "grade_id": "cell-49a4524163aaca8f",
     "locked": true,
     "schema_version": 1,
     "solution": false
    }
   },
   "source": [
    "#### Q1: make the index the datetime of the dates"
   ]
  },
  {
   "cell_type": "code",
   "execution_count": null,
   "metadata": {
    "deletable": false,
    "nbgrader": {
     "checksum": "c88b600077127617b6156092e9ef7898",
     "grade": false,
     "grade_id": "cell-82a9a269d1f23447",
     "locked": false,
     "schema_version": 1,
     "solution": true
    }
   },
   "outputs": [],
   "source": [
    "### Change the index to the corrct date time index. Do this following best practices.  \n",
    "# Remember, Ze and Andreia are European (hinti-ti-hint-hint)\n",
    "\n",
    "# store['Date'] = ...\n",
    "# store = ... \n",
    "# store = ...   # best practices! \n",
    "\n",
    "store = utils.get_store_data()\n",
    "\n",
    "# YOUR CODE HERE\n",
    "raise NotImplementedError()\n"
   ]
  },
  {
   "cell_type": "code",
   "execution_count": null,
   "metadata": {
    "deletable": false,
    "editable": false,
    "nbgrader": {
     "checksum": "bc241080a23c182d75633ab20797e91b",
     "grade": true,
     "grade_id": "cell-7133328e92b2ffae",
     "locked": true,
     "points": 2,
     "schema_version": 1,
     "solution": false
    }
   },
   "outputs": [],
   "source": [
    "assert store.index.dtype == '<M8[ns]'\n",
    "assert store.iloc[25].name == pd.Timestamp('Jan 26th, 2013')\n",
    "\n",
    "# clue: if this assert is failing, and your iloc[25].name is '04/10/2014', \n",
    "# then you are missing the \"best practices\" part. \n",
    "# What did we say in the Learning notebook about this? "
   ]
  },
  {
   "cell_type": "markdown",
   "metadata": {},
   "source": [
    "#### Q2: what is the most recent day for which we have data? "
   ]
  },
  {
   "cell_type": "code",
   "execution_count": null,
   "metadata": {
    "deletable": false,
    "nbgrader": {
     "checksum": "05305d769993683bccde4788bd8cfe16",
     "grade": false,
     "grade_id": "cell-697b2952dd12d3eb",
     "locked": false,
     "schema_version": 1,
     "solution": true
    }
   },
   "outputs": [],
   "source": [
    "# get the answer programaticallty \n",
    "# hint: the output should be a Timestamp\n",
    "# most_recent_day = \n",
    "\n",
    "# YOUR CODE HERE\n",
    "raise NotImplementedError()\n",
    "\n",
    "print(most_recent_day)"
   ]
  },
  {
   "cell_type": "code",
   "execution_count": null,
   "metadata": {
    "deletable": false,
    "editable": false,
    "nbgrader": {
     "checksum": "d0e7a544d9e83eecaec9321ed7b78268",
     "grade": true,
     "grade_id": "cell-2ad3e124e392e179",
     "locked": true,
     "points": 2,
     "schema_version": 1,
     "solution": false
    }
   },
   "outputs": [],
   "source": [
    "assert most_recent_day == pd.Timestamp('July 31st, 2015')"
   ]
  },
  {
   "cell_type": "markdown",
   "metadata": {},
   "source": [
    "#### Q3: How many customers did we have on July 31st, 2015? "
   ]
  },
  {
   "cell_type": "code",
   "execution_count": null,
   "metadata": {
    "deletable": false,
    "nbgrader": {
     "checksum": "ccf70aee53c1582dad3a8f61ae8746c2",
     "grade": false,
     "grade_id": "cell-8754da2cad70820d",
     "locked": false,
     "schema_version": 1,
     "solution": true
    }
   },
   "outputs": [],
   "source": [
    "# simple selection, no need to go crazy yet :) \n",
    "# number_of_people = ...\n",
    "\n",
    "# YOUR CODE HERE\n",
    "raise NotImplementedError()\n",
    "\n",
    "print(number_of_people)"
   ]
  },
  {
   "cell_type": "code",
   "execution_count": null,
   "metadata": {
    "deletable": false,
    "editable": false,
    "nbgrader": {
     "checksum": "76b5241fafcc946a41b968a57c1cdce7",
     "grade": true,
     "grade_id": "cell-fc854d6f9e221d13",
     "locked": true,
     "points": 2,
     "schema_version": 1,
     "solution": false
    }
   },
   "outputs": [],
   "source": [
    "assert number_of_people == 555"
   ]
  },
  {
   "cell_type": "markdown",
   "metadata": {},
   "source": [
    "#### Q4: Tuesday, bloody Tuesday "
   ]
  },
  {
   "cell_type": "code",
   "execution_count": null,
   "metadata": {},
   "outputs": [],
   "source": [
    "store.head(2)"
   ]
  },
  {
   "cell_type": "markdown",
   "metadata": {},
   "source": [
    "Yesterday (Thursday) was a very slow day, only 515 people walked in. Andreia wants to know if it's normal. \n",
    "\n",
    "What is the median number of people to visit on Thursday?  \n",
    "- _hint #1: you can use [these methods](https://pandas.pydata.org/pandas-docs/stable/api.html#datetimelike-properties) directly on the index_  \n",
    "- _hint #2: when operating directly on the index, you do not need to use `.dt` to use the methods_"
   ]
  },
  {
   "cell_type": "code",
   "execution_count": null,
   "metadata": {
    "deletable": false,
    "nbgrader": {
     "checksum": "0eb91da7a7c75566801182077d4ec654",
     "grade": false,
     "grade_id": "cell-77921f3ceae2aa39",
     "locked": false,
     "schema_version": 1,
     "solution": true
    }
   },
   "outputs": [],
   "source": [
    "# you will need to do two things. Get the \"Thursdays\", then take their median. \n",
    "\n",
    "# thursday_data = ...\n",
    "# median_clients_thursday = ... \n",
    "\n",
    "# YOUR CODE HERE\n",
    "raise NotImplementedError()\n",
    "\n",
    "print(median_clients_thursday)"
   ]
  },
  {
   "cell_type": "code",
   "execution_count": null,
   "metadata": {
    "deletable": false,
    "editable": false,
    "nbgrader": {
     "checksum": "5c61a6a6a95d977ff0a6f6635339c897",
     "grade": true,
     "grade_id": "cell-4f2a091d0c170636",
     "locked": true,
     "points": 2,
     "schema_version": 1,
     "solution": false
    }
   },
   "outputs": [],
   "source": [
    "assert median_clients_thursday == 514.0"
   ]
  },
  {
   "cell_type": "markdown",
   "metadata": {},
   "source": [
    "Ah, maybe it's normal then! "
   ]
  },
  {
   "cell_type": "markdown",
   "metadata": {},
   "source": [
    "#### Q5: How was the Christmas season? "
   ]
  },
  {
   "cell_type": "code",
   "execution_count": null,
   "metadata": {},
   "outputs": [],
   "source": [
    "store.head(2)"
   ]
  },
  {
   "cell_type": "markdown",
   "metadata": {},
   "source": [
    "Andreia wants to know how much money they made in total, between the 22nd of December 2014 (inclusive), and the third of January, 2015. "
   ]
  },
  {
   "cell_type": "code",
   "execution_count": null,
   "metadata": {
    "deletable": false,
    "nbgrader": {
     "checksum": "ae0945d2a75421e44fd320eb5debf125",
     "grade": false,
     "grade_id": "cell-90c74666589531da",
     "locked": false,
     "schema_version": 1,
     "solution": true
    }
   },
   "outputs": [],
   "source": [
    "# How much money did they make between those two dates? \n",
    "\n",
    "# christmas_period_data = ...\n",
    "# total_money_in_the_christmas_period = ...\n",
    "\n",
    "\n",
    "# YOUR CODE HERE\n",
    "raise NotImplementedError()\n",
    "\n",
    "print(total_money_in_the_christmas_period)"
   ]
  },
  {
   "cell_type": "code",
   "execution_count": null,
   "metadata": {
    "deletable": false,
    "editable": false,
    "nbgrader": {
     "checksum": "d48375adce3374359b5cb272d46a1666",
     "grade": true,
     "grade_id": "cell-665b8b48cc115c92",
     "locked": true,
     "points": 2,
     "schema_version": 1,
     "solution": false
    }
   },
   "outputs": [],
   "source": [
    "assert total_money_in_the_christmas_period == 53072"
   ]
  },
  {
   "cell_type": "markdown",
   "metadata": {},
   "source": [
    "#### Q6: What was the total weekly revenue, on our worst week of 2014? "
   ]
  },
  {
   "cell_type": "code",
   "execution_count": null,
   "metadata": {
    "deletable": false,
    "nbgrader": {
     "checksum": "50e265edcd618ec3b7d593a2914232c7",
     "grade": false,
     "grade_id": "cell-d110e5e35175fdda",
     "locked": false,
     "schema_version": 1,
     "solution": true
    }
   },
   "outputs": [],
   "source": [
    "# Clue: we need weekly data her for this one, \n",
    "# Clue: the \"worst' week is simply the week when we made the smallest total amount of money\n",
    "\n",
    "# data_2014 = ...\n",
    "# total_revenue_per_week_2014 = ...\n",
    "# worst_week_sales = ...\n",
    "\n",
    "\n",
    "# YOUR CODE HERE\n",
    "raise NotImplementedError()\n",
    "\n",
    "print(worst_week_sales)"
   ]
  },
  {
   "cell_type": "code",
   "execution_count": null,
   "metadata": {
    "deletable": false,
    "editable": false,
    "nbgrader": {
     "checksum": "567d95af830aeda1c081146014838c2b",
     "grade": true,
     "grade_id": "cell-8b26a15c829c1cba",
     "locked": true,
     "points": 2,
     "schema_version": 1,
     "solution": false
    }
   },
   "outputs": [],
   "source": [
    "assert worst_week_sales == 14332"
   ]
  },
  {
   "cell_type": "markdown",
   "metadata": {},
   "source": [
    "#### Q7: when was the first time we had a week with more than 4500 clients?  "
   ]
  },
  {
   "cell_type": "code",
   "execution_count": null,
   "metadata": {
    "deletable": false,
    "nbgrader": {
     "checksum": "02ab8b32eb8132ef0c727404897a3f80",
     "grade": false,
     "grade_id": "cell-67c84a8ebd299bd2",
     "locked": false,
     "schema_version": 1,
     "solution": true
    }
   },
   "outputs": [],
   "source": [
    "# note: there are many ways to answer this question, these steps are just to help out. \n",
    "# However, we do expect the answer to be a weekly time period (freq='52W-SUN'), so answers  \n",
    "# which are of the form \"the first monday of that week\" will not pass the grader. \n",
    "\n",
    "# get the days where the store was open \n",
    "# store_open_days = \n",
    "\n",
    "# make it a weekly dataset, and take the total number of customers \n",
    "# total_customers_per_week = ... \n",
    "\n",
    "# select only those weeks where we had more than 4500 clients \n",
    "# (you can also do this in 2 lines using a mask)\n",
    "# weeks_when_we_had_more_than_4500_clients = ...\n",
    "\n",
    "# now get the smallest index of the previous! \n",
    "# first_time_we_ever_had_more_than_4500 = ...\n",
    "\n",
    "# YOUR CODE HERE\n",
    "raise NotImplementedError()\n",
    "\n",
    "print(first_time_we_ever_had_more_than_4500)"
   ]
  },
  {
   "cell_type": "code",
   "execution_count": null,
   "metadata": {
    "deletable": false,
    "editable": false,
    "nbgrader": {
     "checksum": "d51ccd1d5f87055fbe61f191a187d457",
     "grade": true,
     "grade_id": "cell-af37d8028da75ec2",
     "locked": true,
     "points": 2,
     "schema_version": 1,
     "solution": false
    }
   },
   "outputs": [],
   "source": [
    "assert first_time_we_ever_had_more_than_4500 == pd.Timestamp('2013-12-22 00:00:00', freq='52W-SUN')"
   ]
  },
  {
   "cell_type": "markdown",
   "metadata": {},
   "source": [
    "----- "
   ]
  },
  {
   "cell_type": "markdown",
   "metadata": {},
   "source": [
    "# Yay! It's an empire now! "
   ]
  },
  {
   "cell_type": "markdown",
   "metadata": {},
   "source": [
    "You did such a fantastic job, that Andreia and Ze now own 200 stores. \n",
    "\n",
    "You are now their head of data, and have a LOT more data to work with! "
   ]
  },
  {
   "cell_type": "markdown",
   "metadata": {},
   "source": [
    "![business empire](https://cdn-images-1.medium.com/max/1280/1*gOmZ5L5WXOKqtw3zWJ_ZGw.jpeg)"
   ]
  },
  {
   "cell_type": "code",
   "execution_count": null,
   "metadata": {},
   "outputs": [],
   "source": [
    "data = utils.get_stores_data()\n",
    "print('We now have %0.0f data points. Wooooow!' % len(data))"
   ]
  },
  {
   "cell_type": "markdown",
   "metadata": {},
   "source": [
    "The thing is, we can't just set the index to be the day, as we now have multiple stores on the same day. \n",
    "\n",
    "Looks like we have to go into multi-indexing..."
   ]
  },
  {
   "cell_type": "code",
   "execution_count": null,
   "metadata": {},
   "outputs": [],
   "source": [
    "data.head(2)"
   ]
  },
  {
   "cell_type": "markdown",
   "metadata": {},
   "source": [
    "#### Q8: make the date into a datetime, and then set the index to be `[Date, Store]`"
   ]
  },
  {
   "cell_type": "code",
   "execution_count": null,
   "metadata": {
    "deletable": false,
    "nbgrader": {
     "checksum": "140a29809bc1c60b3b5998d12f359b04",
     "grade": false,
     "grade_id": "cell-bd496ea24bfc5801",
     "locked": false,
     "schema_version": 1,
     "solution": true
    }
   },
   "outputs": [],
   "source": [
    "# make the date a datetime \n",
    "# hint: the date format may have changed since we became a big corporate \n",
    "\n",
    "data = utils.get_stores_data()\n",
    "\n",
    "# data.Date = ... \n",
    "# YOUR CODE HERE\n",
    "raise NotImplementedError()\n",
    "\n",
    "# set the index to be the correct multi-index \n",
    "# data = ...   \n",
    "# data = ...    # don't forget best practices, or it will hurt \n",
    "# YOUR CODE HERE\n",
    "raise NotImplementedError()\n",
    "\n",
    "print(data.head(3))"
   ]
  },
  {
   "cell_type": "code",
   "execution_count": null,
   "metadata": {
    "deletable": false,
    "editable": false,
    "nbgrader": {
     "checksum": "d9066b659dce9d7ca7a6f23bc0c46d9a",
     "grade": true,
     "grade_id": "cell-41fcf00518bc06b3",
     "locked": true,
     "points": 2,
     "schema_version": 1,
     "solution": false
    }
   },
   "outputs": [],
   "source": [
    "assert isinstance(data.index, pd.core.indexes.multi.MultiIndex)\n",
    "assert (data.index.levels[0].sort_values()[0:3] == ['2013-01-01', '2013-01-02', '2013-01-03']).all()\n",
    "assert (data.index.levels[1].sort_values()[0:3] == [1, 2, 3]).all()"
   ]
  },
  {
   "cell_type": "markdown",
   "metadata": {},
   "source": [
    "#### Q9: get the Sales data for store 2 and for store 30, on June 25th 2015"
   ]
  },
  {
   "cell_type": "code",
   "execution_count": null,
   "metadata": {
    "deletable": false,
    "nbgrader": {
     "checksum": "85cac81946b855020cc454e04ccc2d7e",
     "grade": false,
     "grade_id": "cell-2972eb419a5a4bbf",
     "locked": false,
     "schema_version": 1,
     "solution": true
    }
   },
   "outputs": [],
   "source": [
    "# create a variable called idx, and make it an IndexSlice \n",
    "# (clue: if you've forgotten how, check \"Selecting in multi-indexes\" in the second learning notebook)\n",
    "# idx = ...\n",
    "\n",
    "# use the right method to get the answer to Q9. You will need to use idx\n",
    "# Remember, you want both store 2 and store 30, in one go \n",
    "# requested_sales_data = ... \n",
    "\n",
    "# YOUR CODE HERE\n",
    "raise NotImplementedError()\n",
    "\n",
    "print(requested_sales_data)\n"
   ]
  },
  {
   "cell_type": "code",
   "execution_count": null,
   "metadata": {
    "deletable": false,
    "editable": false,
    "nbgrader": {
     "checksum": "4f166eec77d651232d4056e08ab96bea",
     "grade": true,
     "grade_id": "cell-91c66890cd3120b1",
     "locked": true,
     "points": 2,
     "schema_version": 1,
     "solution": false
    }
   },
   "outputs": [],
   "source": [
    "assert (requested_sales_data.values == np.array([4022, 3400])).all()"
   ]
  },
  {
   "cell_type": "markdown",
   "metadata": {},
   "source": [
    "#### Q10: Which was the store that had the worse day-to-day absolute fall in sales, excluding days where it was closed? "
   ]
  },
  {
   "cell_type": "code",
   "execution_count": null,
   "metadata": {
    "deletable": false,
    "nbgrader": {
     "checksum": "e2a936246f6e3c2b0c9a6313cc6a125c",
     "grade": false,
     "grade_id": "cell-fba2c4641714cb4c",
     "locked": false,
     "schema_version": 1,
     "solution": true
    }
   },
   "outputs": [],
   "source": [
    "# This is the champions league question, take some time to think about this one\n",
    "\n",
    "# A few clues: \n",
    "# you will have to do some groupby stuff \n",
    "# you will need to get \"the index which corresponds to the ...\", not the value of the fall\n",
    "# \"the store which had the largest fall\"... doesn't this remind you of anything? \n",
    "#     (I'll go get an apple from Dingo Poce while you think about it.) \n",
    "# when you finally get the index, the store number will be the second element, so you can get it with [1]\n",
    "# the answer is just the store number.\n",
    "# printing intermediate results can help a lot \n",
    "\n",
    "# store_open = ...\n",
    "# daily_changes_in_Sales_by_store = ...\n",
    "# index_of_the_largest_ever_drop = ...\n",
    "# store_with_the_biggest_drop = ...   # get the element 1 of the tuple \n",
    "\n",
    "# YOUR CODE HERE\n",
    "raise NotImplementedError()\n",
    "\n",
    "print(store_with_the_biggest_drop)"
   ]
  },
  {
   "cell_type": "code",
   "execution_count": null,
   "metadata": {
    "deletable": false,
    "editable": false,
    "nbgrader": {
     "checksum": "0682c274b3c08af9914a56748ef31d2d",
     "grade": true,
     "grade_id": "cell-a00120ab691a1e2d",
     "locked": true,
     "points": 2,
     "schema_version": 1,
     "solution": false
    }
   },
   "outputs": [],
   "source": [
    "assert data.loc[idx['2013-03-06', store_with_the_biggest_drop], 'Customers'].values[0] == 550"
   ]
  }
 ],
 "metadata": {
  "kernelspec": {
   "display_name": "Python 3",
   "language": "python",
   "name": "python3"
  },
  "language_info": {
   "codemirror_mode": {
    "name": "ipython",
    "version": 3
   },
   "file_extension": ".py",
   "mimetype": "text/x-python",
   "name": "python",
   "nbconvert_exporter": "python",
   "pygments_lexer": "ipython3",
   "version": "3.6.5"
  }
 },
 "nbformat": 4,
 "nbformat_minor": 2
}
