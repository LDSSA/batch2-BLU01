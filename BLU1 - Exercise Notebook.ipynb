{
 "cells": [
  {
   "cell_type": "markdown",
   "metadata": {},
   "source": [
    "Yay! Exercises! "
   ]
  },
  {
   "cell_type": "code",
   "execution_count": null,
   "metadata": {},
   "outputs": [],
   "source": [
    "import pandas as pd \n",
    "from matplotlib import pyplot as plt \n",
    "import numpy as np\n",
    "% matplotlib inline \n",
    "\n",
    "from utils import utils "
   ]
  },
  {
   "cell_type": "markdown",
   "metadata": {},
   "source": [
    "### You're hired! "
   ]
  },
  {
   "cell_type": "markdown",
   "metadata": {},
   "source": [
    "Ze and Andreia own a store, and they have just hired you as a data scientist! \n",
    "\n",
    "This is going to be fun! "
   ]
  },
  {
   "cell_type": "markdown",
   "metadata": {},
   "source": [
    "![Store](https://www.goebt.com/wp-content/uploads/2017/03/iStock-508857266-e1489426963806.jpg)"
   ]
  },
  {
   "cell_type": "markdown",
   "metadata": {},
   "source": [
    "They have been collecting data over the past few years, and want to start using it to understand their store better. "
   ]
  },
  {
   "cell_type": "markdown",
   "metadata": {},
   "source": [
    "Let's get our data: "
   ]
  },
  {
   "cell_type": "code",
   "execution_count": null,
   "metadata": {},
   "outputs": [],
   "source": [
    "store = utils.get_store_data()\n",
    "store.head()"
   ]
  },
  {
   "cell_type": "markdown",
   "metadata": {},
   "source": [
    "#### Q1: make the index the datetime of the dates"
   ]
  },
  {
   "cell_type": "code",
   "execution_count": null,
   "metadata": {},
   "outputs": [],
   "source": [
    "### Change the index to the corrct date time index. Do this following best practices.  \n",
    "# Remember, Ze and Andreia are European (hinti-ti-hint-hint)\n"
   ]
  },
  {
   "cell_type": "code",
   "execution_count": null,
   "metadata": {},
   "outputs": [],
   "source": [
    "assert store.index.dtype == '<M8[ns]'\n",
    "assert store.iloc[25].name == pd.Timestamp('Jan 26th, 2013')\n",
    "\n",
    "# clue: if this assert is failing, and your iloc[25].name is '04/10/2014', \n",
    "# then you are missing the \"best practices\" part. \n",
    "# What did we say in the Learning notebook about this? "
   ]
  },
  {
   "cell_type": "markdown",
   "metadata": {},
   "source": [
    "#### Q2: what is the most recent day for which we have data? "
   ]
  },
  {
   "cell_type": "code",
   "execution_count": null,
   "metadata": {},
   "outputs": [],
   "source": [
    "# get the answer programaticallty \n",
    "# most_recent_day = "
   ]
  },
  {
   "cell_type": "code",
   "execution_count": null,
   "metadata": {},
   "outputs": [],
   "source": [
    "assert most_recent_day == pd.Timestamp('July 31st, 2015')"
   ]
  },
  {
   "cell_type": "markdown",
   "metadata": {},
   "source": [
    "#### Q3: How many customers did we have on July 31st, 2015? "
   ]
  },
  {
   "cell_type": "code",
   "execution_count": null,
   "metadata": {},
   "outputs": [],
   "source": [
    "# simple selection, no need to go crazy yet :) \n",
    "# number_of_people = ..."
   ]
  },
  {
   "cell_type": "code",
   "execution_count": null,
   "metadata": {},
   "outputs": [],
   "source": [
    "assert number_of_people == 555"
   ]
  },
  {
   "cell_type": "markdown",
   "metadata": {},
   "source": [
    "#### Q4: Tuesday, bloody Tuesday "
   ]
  },
  {
   "cell_type": "markdown",
   "metadata": {},
   "source": [
    "Yesterday (Thursday) was a very slow day, only 515 people walked in. Andreia wants to know if it's normal. \n",
    "\n",
    "What is the median number of people to visit on Thursday?"
   ]
  },
  {
   "cell_type": "code",
   "execution_count": null,
   "metadata": {},
   "outputs": [],
   "source": [
    "# you will need to do two things. Get the \"Thursdays\", then take their mean. \n",
    "# median_clients_thursday = ..."
   ]
  },
  {
   "cell_type": "code",
   "execution_count": null,
   "metadata": {},
   "outputs": [],
   "source": [
    "assert median_clients_thursday == 514.0"
   ]
  },
  {
   "cell_type": "markdown",
   "metadata": {},
   "source": [
    "Ah, maybe it's normal then! "
   ]
  },
  {
   "cell_type": "markdown",
   "metadata": {},
   "source": [
    "#### Q5: How was the Christmas season? "
   ]
  },
  {
   "cell_type": "markdown",
   "metadata": {},
   "source": [
    "Andreia wants to know how much money they made in total, between the 22nd of December 2014 (inclusive), and the third of January, 2015. "
   ]
  },
  {
   "cell_type": "code",
   "execution_count": null,
   "metadata": {},
   "outputs": [],
   "source": [
    "# How much money did they make between those two dates? \n",
    "# total_money_in_the_christmas_period = "
   ]
  },
  {
   "cell_type": "code",
   "execution_count": null,
   "metadata": {},
   "outputs": [],
   "source": [
    "assert total_money_in_the_christmas_period == 53072"
   ]
  },
  {
   "cell_type": "markdown",
   "metadata": {},
   "source": [
    "#### Q6: What was the total weekly revenue, on our worst week of 2014? "
   ]
  },
  {
   "cell_type": "code",
   "execution_count": null,
   "metadata": {},
   "outputs": [],
   "source": [
    "# Clue: we need weekly data her for this one, \n",
    "# Clue; the \"worst' week is simply the week when we made the smallest total amount of money\n",
    "# worst_week_sales = "
   ]
  },
  {
   "cell_type": "code",
   "execution_count": null,
   "metadata": {},
   "outputs": [],
   "source": [
    "assert worst_week_sales == 14332"
   ]
  },
  {
   "cell_type": "markdown",
   "metadata": {},
   "source": [
    "#### Q7: when was the first time we had a week with more than 4500 clients?  "
   ]
  },
  {
   "cell_type": "code",
   "execution_count": null,
   "metadata": {},
   "outputs": [],
   "source": [
    "# note: there are many ways to answer this question, these steps are just to help out. \n",
    "\n",
    "# get the days where the store was open \n",
    "# store_open_days = \n",
    "\n",
    "# make it a weekly dataset, and take the total number of customers \n",
    "# total_customers_per_week = ... \n",
    "\n",
    "# get the series of \"max we'd ever had per week\"\n",
    "# clue: this is not one number, it's still a timeseries \n",
    "# max_we_ever_had_per_week_history = ... \n",
    "\n",
    "# from the previous series, select only those where we had more than 4500 clients \n",
    "# max_we_ever_had_per_week_history_over_4500 = ...\n",
    "\n",
    "# now get the smallest index of the previous! \n",
    "# first_time_we_ever_had_more_than_4500 = ...\n",
    "\n",
    "# clue: if the first time you get it wrong, think about your index, and whether you are sure it is is sorted"
   ]
  },
  {
   "cell_type": "code",
   "execution_count": null,
   "metadata": {},
   "outputs": [],
   "source": [
    "assert first_time_we_ever_had_more_than_4500 == pd.Timestamp('2013-01-02 00:00:00', freq='W-SUN')"
   ]
  },
  {
   "cell_type": "markdown",
   "metadata": {},
   "source": [
    "----- "
   ]
  },
  {
   "cell_type": "markdown",
   "metadata": {},
   "source": [
    "# Yay! It's an empire now! "
   ]
  },
  {
   "cell_type": "markdown",
   "metadata": {},
   "source": [
    "You did such a fantastic job, that Andreia and Ze now own 200 stores. \n",
    "\n",
    "You are now their head of data, and have a LOT more data to work with! "
   ]
  },
  {
   "cell_type": "markdown",
   "metadata": {},
   "source": [
    "![business empire](https://cdn-images-1.medium.com/max/1280/1*gOmZ5L5WXOKqtw3zWJ_ZGw.jpeg)"
   ]
  },
  {
   "cell_type": "code",
   "execution_count": null,
   "metadata": {},
   "outputs": [],
   "source": [
    "data = utils.get_stores_data()\n",
    "print('We now have %0.0f data points. Wooooow!' % len(data))"
   ]
  },
  {
   "cell_type": "markdown",
   "metadata": {},
   "source": [
    "The thing is, we can't just set the index to be the day, as we now have multiple stores on the same day. \n",
    "\n",
    "Looks like we have to go into multi-indexing..."
   ]
  },
  {
   "cell_type": "markdown",
   "metadata": {},
   "source": [
    "#### Q8: make the date into a datetime, and then set the index to be `[date, store]`"
   ]
  },
  {
   "cell_type": "code",
   "execution_count": null,
   "metadata": {},
   "outputs": [],
   "source": [
    "# make the date a datetime \n",
    "# hint: the date format may have changed since we became a big corporate \n",
    "# \n",
    "\n",
    "# set the index to be the correct multi-index \n",
    "# "
   ]
  },
  {
   "cell_type": "code",
   "execution_count": null,
   "metadata": {},
   "outputs": [],
   "source": [
    "assert isinstance(data.index, pd.core.indexes.multi.MultiIndex)\n",
    "assert (data.index.levels[0].sort_values()[0:3] == ['2013-01-01', '2013-01-02', '2013-01-03']).all()\n",
    "assert (data.index.levels[1].sort_values()[0:3] == [1, 2, 3]).all()"
   ]
  },
  {
   "cell_type": "markdown",
   "metadata": {},
   "source": [
    "#### Q9: get the Sales data for store 2 and for store 30, on June 25th 2015"
   ]
  },
  {
   "cell_type": "code",
   "execution_count": null,
   "metadata": {},
   "outputs": [],
   "source": [
    "# create a variable called idx, and make it an IndexSlice \n",
    "# (clue: if you've forgotten how, check \"Selecting in multi-indexes\" in the second learning notebook)\n",
    "# idx = ...\n",
    "\n",
    "# use the right method to get the answer to Q9. You will need to use idx\n",
    "# (clue: you might get a funky error. If you do, check \"We sort of have a problem...\" in the second learning notebook)\n",
    "# requested_sales_data = ... \n"
   ]
  },
  {
   "cell_type": "code",
   "execution_count": null,
   "metadata": {},
   "outputs": [],
   "source": [
    "assert (requested_sales_data.values == np.array([4022, 7111])).all()"
   ]
  },
  {
   "cell_type": "markdown",
   "metadata": {},
   "source": [
    "#### Q10: Which was the store that had the worse day-to-day absolute fall in sales, excluding days where it was closed? "
   ]
  },
  {
   "cell_type": "code",
   "execution_count": null,
   "metadata": {},
   "outputs": [],
   "source": [
    "# This is the champions league question, take some time to think about this one\n",
    "\n",
    "# A few clues: \n",
    "# you will have to do some groupby stuff \n",
    "# you will need to get \"the index which corresponds to the ...\", not the value of the fall\n",
    "# when you finally get the index, the store number will be the second element, so you can get it with [1]\n",
    "# the answer is just the store number. No hard coding answers on this one :) \n",
    "# you can answer in just one line, but should probably do it step by step \n",
    "\n",
    "# store_with_the_biggest_drop = ..."
   ]
  },
  {
   "cell_type": "code",
   "execution_count": null,
   "metadata": {},
   "outputs": [],
   "source": [
    "assert data.loc[idx['2013-03-06', store_with_the_biggest_drop], 'Customers'].values[0] == 550"
   ]
  }
 ],
 "metadata": {
  "kernelspec": {
   "display_name": "Python 3",
   "language": "python",
   "name": "python3"
  },
  "language_info": {
   "codemirror_mode": {
    "name": "ipython",
    "version": 3
   },
   "file_extension": ".py",
   "mimetype": "text/x-python",
   "name": "python",
   "nbconvert_exporter": "python",
   "pygments_lexer": "ipython3",
   "version": "3.6.5"
  }
 },
 "nbformat": 4,
 "nbformat_minor": 2
}
